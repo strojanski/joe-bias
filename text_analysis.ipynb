{
 "cells": [
  {
   "attachments": {},
   "cell_type": "markdown",
   "metadata": {},
   "source": [
    "## Text analysis\n",
    "\n",
    "1. Determine bias of the input article\n",
    "2. Determine direction (left/right)\n",
    "\n",
    "\n",
    "\n",
    "\n",
    "\n",
    "BIAS DETECTION:\n",
    "    - detect biased words, compute an index\n",
    "    - Get sentiment on various topics, known to differ from left to right political view (sentiment analysis on paragraphs)"
   ]
  },
  {
   "cell_type": "code",
   "execution_count": 51,
   "metadata": {},
   "outputs": [],
   "source": [
    "from nltk.tokenize import word_tokenize\n",
    "from nltk.corpus import stopwords\n",
    "from nltk.stem import WordNetLemmatizer\n",
    "import re"
   ]
  },
  {
   "cell_type": "code",
   "execution_count": 20,
   "metadata": {},
   "outputs": [],
   "source": [
    "# Read in the sample article\n",
    "article = open('sample_article.txt', 'r').read()\n",
    "\n",
    "# Convert to single long string\n",
    "article = article.replace('\\'', ' ')"
   ]
  },
  {
   "cell_type": "code",
   "execution_count": 21,
   "metadata": {},
   "outputs": [
    {
     "data": {
      "text/plain": [
       "'Virginia mom says activists threatened to  curb stomp  her for speaking out against school curriculum\\n This is murder,  Loudoun County parent Alisha Brand told  Fox & Friends \\n\\nParents in Loudoun County, Virginia, say they have become targets of violent threats on social media for speaking out against the school district s LGBTQ agenda.\\n\\n\"They said that they wanted to curb stomp me,\" Loudoun County mom and Army of Parents co-founder Alisha Brand told \"Fox & Friends\" Friday of threats made on the \"Loudoun Love Warriors\" Facebook page.\\n\\nBrand said her organization, which she described as a 501(c)(4) that advocates for excellence in education, school safety and parental rights, has made activists online \"very angry,\" leading to \"threats of death.\"\\n\\n\"I m not sure if your audience is aware of the violent nature of curb stomping, but what it does entail is grabbing somebody by the back of the head, forcing their mouth open, pushing them down to the ground with their face on the cement, their mouth around the curb, and then somebody else stomping on the back of their head,\" she continued. \\n\"This is murder, it s a felony, and this is what I was threatened with by these activists who are tied to our political candidates.\"\\n\\nThe \"Loudoun Love Warriors\" group includes members who appear to be associated with Loudoun County Commonwealth’s Attorney Buta Biberaj, County Supervisor Juli Briskman, School Board Chair Ian Serotkin, school board member Brenda Sheridan, school board member Atoosa Reaser, school board member Erika Ogedegbe, school board candidate Anne Donohue, sheriff candidate Craig Buckley, and Chair Phyllis Randall. None of these elected officials personally made any threats.\\n\\nLoudoun County resident Mark Winn told WJLA he learned of messages on the group threatening his life and livelihood after he addressed the school board in Dec. 2022.\\n\\n\"[LGBT] behaviors should never have been promoted, taught, or encouraged in the schools that you oversee,\" he said at the meeting. \"Get back to reading, writing and arithmetic and quit grooming and pimping.\"\\n\\nScott Mineo, another Loudoun County parent, told WJLA that activists \"went after\" his job. \\n\\n\"They referred me to the FBI, IRS, and DHS all because they don’t like my opinion,\" he said.\\n\"They re probably going to sit back and celebrate the fact that I m unemployed. I m having a hard time finding a job. And who knows what s next with the IRS and the FBI? I don t know. But they ve done more than just put me out of a job. It s impacting my family, my kids.\"\\n\\nBrand said she s taken the issue to the team of House Judiciary Committee Chair Rep. Jim Jordan, R-Ohio, hoping for an investigation into the threats and accountability. She also called for legislation to protect parents who advocate for their children in public forums like school board meetings.\\n\\n\"This is a First Amendment right,\" Bland said.\\nA spokesperson for the Loudoun County Public Schools directed Fox News Digital to statements that some Loudoun County officials have made in public regarding the controversy. \\n\\n\"Violent threats are never acceptable and at times can be criminal. I personally condemn all violent language and my office will be investigating whether a crime was committed. Due to the possibility of a criminal investigation, I can not comment further at this time,\" Loudoun County Commonwealth’s Attorney Buta Biberaj said in response to the news. '"
      ]
     },
     "execution_count": 21,
     "metadata": {},
     "output_type": "execute_result"
    }
   ],
   "source": [
    "article"
   ]
  },
  {
   "attachments": {},
   "cell_type": "markdown",
   "metadata": {},
   "source": [
    "### Preprocess text"
   ]
  },
  {
   "cell_type": "code",
   "execution_count": 32,
   "metadata": {},
   "outputs": [],
   "source": [
    "# Download required NLTK data\n",
    "# nltk.download('punkt')\n",
    "# nltk.download('stopwords')\n",
    "# nltk.download('wordnet')\n",
    "# nltk.download('omw-1.4')"
   ]
  },
  {
   "cell_type": "code",
   "execution_count": 52,
   "metadata": {},
   "outputs": [],
   "source": [
    "def preprocess_text(text):\n",
    "\n",
    "    # Remove stopwords\n",
    "    tokens = word_tokenize(text)\n",
    "    tokens = re.sub(r'[^\\w\\s]', '', \" \".join(tokens))\n",
    "    tokens = tokens.split(\" \")\n",
    "    stop_words = stopwords.words('english')\n",
    "    tokens = [token.lower() for token in tokens if token.lower() not in stop_words and len(token) > 0]\n",
    "\n",
    "    # Lemmatize tokens\n",
    "    lemmatizer = WordNetLemmatizer()\n",
    "    lemmatized_tokens = [lemmatizer.lemmatize(token) for token in tokens]"
   ]
  },
  {
   "cell_type": "code",
   "execution_count": 53,
   "metadata": {},
   "outputs": [],
   "source": [
    "lemmatized_tokens = preprocess_text(article)"
   ]
  },
  {
   "attachments": {},
   "cell_type": "markdown",
   "metadata": {},
   "source": [
    "#### Test sentiment analysis with chatGPT API"
   ]
  },
  {
   "cell_type": "code",
   "execution_count": 64,
   "metadata": {},
   "outputs": [],
   "source": [
    "import openai"
   ]
  },
  {
   "cell_type": "code",
   "execution_count": 74,
   "metadata": {},
   "outputs": [],
   "source": [
    "def get_sentiment(topic: str, text: str) -> str:\n",
    "    \n",
    "    response = openai.Completion.create(\n",
    "    model=\"text-davinci-003\",\n",
    "    prompt=f\"Decide whether text's sentiment is positive, neutral, or negative based on {topic}.\\n\\n text: {text} \\\"\\nSentiment:\",\n",
    "    temperature=0,\n",
    "    max_tokens=100,\n",
    "    top_p=1.0,\n",
    "    frequency_penalty=0.5,\n",
    "    presence_penalty=0.0\n",
    "    )"
   ]
  },
  {
   "cell_type": "code",
   "execution_count": 72,
   "metadata": {},
   "outputs": [],
   "source": [
    "openapi_key = open(\"openai_api_key\", \"r\").read()\n",
    "import os\n",
    "\n",
    "openai.api_key = openapi_key.strip()\n",
    "\n",
    "import os\n",
    "import openai\n",
    "\n",
    "openai.api_key = os.getenv(\"OPENAI_API_KEY\")\n",
    "\n"
   ]
  },
  {
   "cell_type": "code",
   "execution_count": 73,
   "metadata": {},
   "outputs": [
    {
     "data": {
      "text/plain": [
       "<OpenAIObject text_completion id=cmpl-7FjOEEP8JT4QgdchYZlEze6DE2Qdy at 0x1d6fa5790d0> JSON: {\n",
       "  \"choices\": [\n",
       "    {\n",
       "      \"finish_reason\": \"stop\",\n",
       "      \"index\": 0,\n",
       "      \"logprobs\": null,\n",
       "      \"text\": \" Positive\"\n",
       "    }\n",
       "  ],\n",
       "  \"created\": 1683983754,\n",
       "  \"id\": \"cmpl-7FjOEEP8JT4QgdchYZlEze6DE2Qdy\",\n",
       "  \"model\": \"text-davinci-003\",\n",
       "  \"object\": \"text_completion\",\n",
       "  \"usage\": {\n",
       "    \"completion_tokens\": 1,\n",
       "    \"prompt_tokens\": 31,\n",
       "    \"total_tokens\": 32\n",
       "  }\n",
       "}"
      ]
     },
     "execution_count": 73,
     "metadata": {},
     "output_type": "execute_result"
    }
   ],
   "source": [
    "response"
   ]
  }
 ],
 "metadata": {
  "kernelspec": {
   "display_name": "joe_bias",
   "language": "python",
   "name": "python3"
  },
  "language_info": {
   "codemirror_mode": {
    "name": "ipython",
    "version": 3
   },
   "file_extension": ".py",
   "mimetype": "text/x-python",
   "name": "python",
   "nbconvert_exporter": "python",
   "pygments_lexer": "ipython3",
   "version": "3.10.11"
  },
  "orig_nbformat": 4
 },
 "nbformat": 4,
 "nbformat_minor": 2
}
